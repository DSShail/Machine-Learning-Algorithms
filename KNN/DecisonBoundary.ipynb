{
 "cells": [
  {
   "cell_type": "markdown",
   "metadata": {},
   "source": [
    "#### Important points on dcision boundary\n",
    "\n",
    "- we can draw decison boundary for all the classification problem statement including neural networks\n",
    "- Decision bounday can both linear(as in case of SVM) and non-linear (as in case of Decision Tree classifier and KNN)\n",
    "- Decision boundary are never clear cut,  that is the transition from one class in the feature space to another is not discontinuous\n",
    "  but gradual\n",
    "- For higher dimensional problems the decison boundary acts as a hyperplane(for linear ones it is a line)"
   ]
  },
  {
   "cell_type": "markdown",
   "metadata": {
    "vscode": {
     "languageId": "plaintext"
    }
   },
   "source": [
    "## Vornoi Diagram\n",
    "\n",
    "- In mathematics the varnoi diagram is a partitioning of a plane into regions based on distance to \n",
    "points in a specific subset of the plane"
   ]
  },
  {
   "cell_type": "markdown",
   "metadata": {
    "vscode": {
     "languageId": "plaintext"
    }
   },
   "source": [
    "### Steps to plot decision boundary for KNN(assuming two input columns)"
   ]
  },
  {
   "cell_type": "code",
   "execution_count": null,
   "metadata": {
    "vscode": {
     "languageId": "plaintext"
    }
   },
   "outputs": [],
   "source": []
  }
 ],
 "metadata": {
  "language_info": {
   "name": "python"
  }
 },
 "nbformat": 4,
 "nbformat_minor": 2
}
